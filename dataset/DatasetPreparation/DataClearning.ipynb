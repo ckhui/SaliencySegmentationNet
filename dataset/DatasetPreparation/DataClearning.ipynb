{
    "cells": [
        {
            "cell_type": "code",
            "execution_count": 1,
            "source": [
                "import glob\n",
                "import numpy as np\n",
                "import json\n",
                "from pycocotools.coco import COCO"
            ],
            "outputs": [],
            "metadata": {}
        },
        {
            "cell_type": "markdown",
            "source": [
                "# Get Image ID"
            ],
            "metadata": {}
        },
        {
            "cell_type": "markdown",
            "source": [
                "## Get Image ID - SALICON"
            ],
            "metadata": {}
        },
        {
            "cell_type": "code",
            "execution_count": 2,
            "source": [
                "def get_image_ids(path: str) -> list:\n",
                "    imges = glob.glob(path)\n",
                "    len(imges)\n",
                "    ids = [int(t.split(\"_\")[-1].split(\".\")[0]) for t in imges]\n",
                "    ids.sort()\n",
                "    return ids\n",
                "\n",
                "train_ids = get_image_ids(\"../../data/images/train/*.jpg\")\n",
                "val_ids = get_image_ids(\"../../data/images/val/*.jpg\")\n",
                "len(train_ids), len(val_ids)"
            ],
            "outputs": [
                {
                    "output_type": "execute_result",
                    "data": {
                        "text/plain": [
                            "(10000, 5000)"
                        ]
                    },
                    "metadata": {},
                    "execution_count": 2
                }
            ],
            "metadata": {}
        },
        {
            "cell_type": "markdown",
            "source": [
                "## Get Image ID - COCO 2017"
            ],
            "metadata": {}
        },
        {
            "cell_type": "code",
            "execution_count": 3,
            "source": [
                "coco_data_dir='../../data/annotations/'\n",
                "coco_json='../../data/annotations/instances_train2014.json'\n",
                "train_coco = COCO(coco_json)\n",
                "coco_json='../../data/annotations/instances_val2014.json'\n",
                "val_coco = COCO(coco_json)"
            ],
            "outputs": [
                {
                    "output_type": "stream",
                    "name": "stdout",
                    "text": [
                        "loading annotations into memory...\n",
                        "Done (t=18.47s)\n",
                        "creating index...\n",
                        "index created!\n",
                        "loading annotations into memory...\n",
                        "Done (t=10.71s)\n",
                        "creating index...\n",
                        "index created!\n"
                    ]
                }
            ],
            "metadata": {}
        },
        {
            "cell_type": "code",
            "execution_count": 4,
            "source": [
                "train_ids_coco = sorted(train_coco.getImgIds())\n",
                "val_ids_coco = sorted(val_coco.getImgIds())\n",
                "len(train_ids_coco), len(val_ids_coco)"
            ],
            "outputs": [
                {
                    "output_type": "execute_result",
                    "data": {
                        "text/plain": [
                            "(82783, 40504)"
                        ]
                    },
                    "metadata": {},
                    "execution_count": 4
                }
            ],
            "metadata": {}
        },
        {
            "cell_type": "markdown",
            "source": [
                "## Get Common ID"
            ],
            "metadata": {}
        },
        {
            "cell_type": "code",
            "execution_count": 5,
            "source": [
                "train_train_found = set(train_ids_coco).intersection(set(train_ids))\n",
                "train_val_found = set(val_ids_coco).intersection(set(train_ids))\n",
                "train_train_found = sorted(list(train_train_found))\n",
                "train_val_found = sorted(list(train_val_found))\n",
                "len(train_train_found), len(train_val_found)"
            ],
            "outputs": [
                {
                    "output_type": "execute_result",
                    "data": {
                        "text/plain": [
                            "(10000, 0)"
                        ]
                    },
                    "metadata": {},
                    "execution_count": 5
                }
            ],
            "metadata": {}
        },
        {
            "cell_type": "code",
            "execution_count": 6,
            "source": [
                "val_train_found = set(train_ids_coco).intersection(set(val_ids))\n",
                "val_val_found = set(val_ids_coco).intersection(set(val_ids))\n",
                "val_train_found = sorted(list(val_train_found))\n",
                "val_val_found = sorted(list(val_val_found))\n",
                "\n",
                "np.savetxt(\"val_in_train2017.txt\", val_train_found)\n",
                "np.savetxt(\"val_in_val2017.txt\", val_val_found)\n",
                "len(val_train_found), len(val_val_found)"
            ],
            "outputs": [
                {
                    "output_type": "execute_result",
                    "data": {
                        "text/plain": [
                            "(0, 5000)"
                        ]
                    },
                    "metadata": {},
                    "execution_count": 6
                }
            ],
            "metadata": {}
        },
        {
            "cell_type": "markdown",
            "source": [
                "# Filter COCO Json"
            ],
            "metadata": {}
        },
        {
            "cell_type": "code",
            "execution_count": 12,
            "source": [
                "def to_full_img_jpg_train(idx: int) -> str:\n",
                "    prefix = \"COCO_train2014\"\n",
                "    return f\"{prefix}_{idx:012}.jpg\"\n",
                "\n",
                "def to_full_img_jpg_val(idx: int) -> str:\n",
                "    prefix = \"COCO_val2014\"\n",
                "    return f\"{prefix}_{idx:012}.jpg\"\n",
                "\n",
                "def load_json(path: str) -> dict:\n",
                "    with open(path, 'r') as j:\n",
                "        contents = json.loads(j.read())\n",
                "        return contents\n",
                "\n",
                "def filter_annoataion(in_json_path: str, out_json_path: str, target_ids: list, train: bool) -> None:\n",
                "    if train:\n",
                "        target_full_ids = set(map(to_full_img_jpg_train, target_ids))\n",
                "    else:\n",
                "        target_full_ids = set(map(to_full_img_jpg_val, target_ids))\n",
                "\n",
                "    contents = load_json(in_json_path)\n",
                "    \n",
                "    print(\"Cleaning Images\")\n",
                "    print(\"Before\", len(contents['images']))\n",
                "    filtered_img_json = [j for j in contents['images'] if j['file_name'] in target_full_ids]\n",
                "    print(\"After\", len(filtered_img_json))\n",
                "    contents['images'] = filtered_img_json\n",
                "\n",
                "    print(\"Cleaning Annotations\")\n",
                "    print(\"Before\", len(contents['annotations']))\n",
                "    filtered_ann_json = [j for j in contents['annotations'] if j['image_id'] in target_ids]\n",
                "    print(\"After\", len(filtered_ann_json))\n",
                "    contents['annotations'] = filtered_ann_json\n",
                "\n",
                "    json.dump(contents, open(out_json_path, 'w+'))\n"
            ],
            "outputs": [],
            "metadata": {}
        },
        {
            "cell_type": "code",
            "execution_count": 9,
            "source": [
                "cocoval_json = '../../data/annotations/instances_val2014.json'\n",
                "contents = load_json(cocoval_json)"
            ],
            "outputs": [],
            "metadata": {}
        },
        {
            "cell_type": "code",
            "execution_count": 11,
            "source": [
                "contents['images'][0]"
            ],
            "outputs": [
                {
                    "output_type": "execute_result",
                    "data": {
                        "text/plain": [
                            "{'license': 3,\n",
                            " 'file_name': 'COCO_val2014_000000391895.jpg',\n",
                            " 'coco_url': 'http://images.cocodataset.org/val2014/COCO_val2014_000000391895.jpg',\n",
                            " 'height': 360,\n",
                            " 'width': 640,\n",
                            " 'date_captured': '2013-11-14 11:18:45',\n",
                            " 'flickr_url': 'http://farm9.staticflickr.com/8186/8119368305_4e622c8349_z.jpg',\n",
                            " 'id': 391895}"
                        ]
                    },
                    "metadata": {},
                    "execution_count": 11
                }
            ],
            "metadata": {}
        },
        {
            "cell_type": "markdown",
            "source": [
                "## Get Image ID - SALICON"
            ],
            "metadata": {}
        },
        {
            "cell_type": "code",
            "execution_count": null,
            "source": [
                "# cocotrain_json = '../../data/annotations/instances_train2017.json'\n",
                "# out_json = \"../../data/val_train.json\"\n",
                "# filter_annoataion(cocotrain_json, out_json, val_train_found)"
            ],
            "outputs": [],
            "metadata": {}
        },
        {
            "cell_type": "code",
            "execution_count": 14,
            "source": [
                "cocoval_json = '../../data/annotations/instances_val2014.json'\n",
                "out_json = \"../../data/salicon_val_coco.json\"\n",
                "filter_annoataion(cocoval_json, out_json, val_val_found, train=False)"
            ],
            "outputs": [
                {
                    "output_type": "stream",
                    "name": "stdout",
                    "text": [
                        "Cleaning Images\n",
                        "Before 40504\n",
                        "After 5000\n",
                        "Cleaning Annotations\n",
                        "Before 291875\n",
                        "After 56872\n"
                    ]
                }
            ],
            "metadata": {}
        },
        {
            "cell_type": "code",
            "execution_count": null,
            "source": [
                "# ##Combine Val\n",
                "# val_val_json = \"../../data/val_val.json\"\n",
                "# val_train_json = \"../../data/val_train.json\"\n",
                "# val_val_data = load_json(val_val_json)\n",
                "# val_train_data = load_json(val_val_json)\n",
                "# out_json = \"../../data/salicon_val_coco.json\"\n",
                "# print(type(val_train_data['images']), type(val_train_data['annotations']))\n",
                "# val_train_data['images'] = val_train_data['images'] + val_val_data['images']\n",
                "# val_train_data['annotations'] = val_train_data['annotations'] + val_val_data['annotations']\n",
                "# json.dump(val_train_data, open(out_json, 'w+'))\n"
            ],
            "outputs": [],
            "metadata": {}
        },
        {
            "cell_type": "code",
            "execution_count": 15,
            "source": [
                "## No Train Data in Val Set 2017\n",
                "cocotrain_json = '../../data/annotations/instances_train2014.json'\n",
                "out_json = \"../../data/salicon_train_coco.json\"\n",
                "filter_annoataion(cocotrain_json, out_json, train_train_found, train=True)"
            ],
            "outputs": [
                {
                    "output_type": "stream",
                    "name": "stdout",
                    "text": [
                        "Cleaning Images\n",
                        "Before 82783\n",
                        "After 10000\n",
                        "Cleaning Annotations\n",
                        "Before 604907\n",
                        "After 114833\n"
                    ]
                }
            ],
            "metadata": {}
        },
        {
            "cell_type": "markdown",
            "source": [
                "# Check"
            ],
            "metadata": {}
        },
        {
            "cell_type": "code",
            "execution_count": 2,
            "source": [
                "coco_json='../../data/salicon_train_coco.json'\n",
                "train_coco = COCO(coco_json)\n",
                "coco_json='../../data/salicon_val_coco.json'\n",
                "val_coco = COCO(coco_json)"
            ],
            "outputs": [
                {
                    "output_type": "stream",
                    "name": "stdout",
                    "text": [
                        "loading annotations into memory...\n",
                        "Done (t=2.47s)\n",
                        "creating index...\n",
                        "index created!\n",
                        "loading annotations into memory...\n",
                        "Done (t=1.20s)\n",
                        "creating index...\n",
                        "index created!\n"
                    ]
                }
            ],
            "metadata": {}
        },
        {
            "cell_type": "code",
            "execution_count": 3,
            "source": [
                "train_ids_coco = sorted(train_coco.getImgIds())\n",
                "val_ids_coco = sorted(val_coco.getImgIds())\n",
                "len(train_ids_coco), len(val_ids_coco)"
            ],
            "outputs": [
                {
                    "output_type": "execute_result",
                    "data": {
                        "text/plain": [
                            "(10000, 5000)"
                        ]
                    },
                    "metadata": {},
                    "execution_count": 3
                }
            ],
            "metadata": {}
        },
        {
            "cell_type": "code",
            "execution_count": null,
            "source": [],
            "outputs": [],
            "metadata": {}
        }
    ],
    "metadata": {
        "orig_nbformat": 4,
        "language_info": {
            "name": "python",
            "version": "3.8.11",
            "mimetype": "text/x-python",
            "codemirror_mode": {
                "name": "ipython",
                "version": 3
            },
            "pygments_lexer": "ipython3",
            "nbconvert_exporter": "python",
            "file_extension": ".py"
        },
        "kernelspec": {
            "name": "python3",
            "display_name": "Python 3.8.11 64-bit"
        },
        "interpreter": {
            "hash": "7e85ec9bf098c5427e45e2f632dcd4eeff803b007e1abd287d600879388709c1"
        }
    },
    "nbformat": 4,
    "nbformat_minor": 2
}